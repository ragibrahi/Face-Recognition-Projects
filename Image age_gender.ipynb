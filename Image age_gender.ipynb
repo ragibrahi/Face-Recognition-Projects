{
 "cells": [
  {
   "cell_type": "code",
   "execution_count": 1,
   "metadata": {},
   "outputs": [],
   "source": [
    "import cv2\n",
    "import time\n",
    "import face_recognition"
   ]
  },
  {
   "cell_type": "code",
   "execution_count": 11,
   "metadata": {},
   "outputs": [
    {
     "name": "stdout",
     "output_type": "stream",
     "text": [
      "There are 2 no. of peoples\n",
      "Found face 1 at top:247 , right:282 , bottom:355 , left:175\n",
      "Found face 2 at top:139 , right:626 , bottom:268 , left:497\n"
     ]
    }
   ],
   "source": [
    "image1 = cv2.imread('E:/Courses/Face Recognition/FF/unknown/17.jpeg')\n",
    "number_of_faces = face_recognition.face_locations(image1, model='hog')\n",
    "print(\"There are {} no. of peoples\".format(len(number_of_faces)))\n",
    "\n",
    "for index, current_face_location in enumerate(number_of_faces):\n",
    "    top_pos, right_pos, bottom_pos, left_pos = current_face_location\n",
    "    print(\"Found face {} at top:{} , right:{} , bottom:{} , left:{}\".format(index+1, top_pos, right_pos,\n",
    "                                                                        bottom_pos, left_pos))\n",
    "    cv2.rectangle(image1, (left_pos,top_pos), (right_pos,bottom_pos), (0,0,255), 2)\n",
    "    \n",
    "    current_face_image = image1[top_pos:bottom_pos, left_pos:right_pos]\n",
    "    #The AGE_GENDER_MODEL_MEAN_VALUES from age_gender_mean.binaryproto using blob - \n",
    "    #blob.channel, blob.height, blob.weight\n",
    "    AGE_GENDER_MODEL_MEAN_VALUES = (78.4263377603, 87.7689143744, 114.895847746)\n",
    "    current_face_image_blob = cv2.dnn.blobFromImage(current_face_image, 1, (227,227), \n",
    "                                                    AGE_GENDER_MODEL_MEAN_VALUES, swapRB=False)\n",
    "\n",
    "    #For gender\n",
    "    gender_list = ['Male','Female']\n",
    "    gender_protext = \"E:/Courses/Face Recognition/gender_deploy.prototxt\"\n",
    "    gender_caffemodel = \"E:/Courses/Face Recognition/gender_net.caffemodel\"\n",
    "    gender_model = cv2.dnn.readNet(gender_caffemodel, gender_protext) \n",
    "    gender_model.setInput(current_face_image_blob)\n",
    "    gender_prediction = gender_model.forward()\n",
    "    gender = gender_list[gender_prediction[0].argmax()]\n",
    "\n",
    "    #For age\n",
    "    age_list = ['(0-2)','(4-6)','(8-12)','(15-20)','(25-32)','(38-43)','(48-53)','(60-100)']\n",
    "    age_protext = \"E:/Courses/Face Recognition/age_deploy.prototxt\"\n",
    "    age_caffemodel = \"E:/Courses/Face Recognition/age_net.caffemodel\"\n",
    "    age_model = cv2.dnn.readNet(age_caffemodel, age_protext)\n",
    "    age_model.setInput(current_face_image_blob)\n",
    "    age_prediction = age_model.forward()\n",
    "    age = age_list[age_prediction[0].argmax()]\n",
    "\n",
    "    cv2.rectangle(image1, (left_pos,top_pos), (right_pos,bottom_pos), (0,0,255), 2)\n",
    "\n",
    "    font = cv2.FONT_HERSHEY_DUPLEX\n",
    "    cv2.putText(image1, gender+\" \"+age+\"yrs\", (left_pos,bottom_pos), font, 0.5, (255,255,255), 1)\n",
    "        \n",
    "cv2.imshow(\"Image\", image1)\n",
    "cv2.waitKey(0)\n",
    "cv2.destroyAllWindows()"
   ]
  }
 ],
 "metadata": {
  "kernelspec": {
   "display_name": "Python 3",
   "language": "python",
   "name": "python3"
  },
  "language_info": {
   "codemirror_mode": {
    "name": "ipython",
    "version": 3
   },
   "file_extension": ".py",
   "mimetype": "text/x-python",
   "name": "python",
   "nbconvert_exporter": "python",
   "pygments_lexer": "ipython3",
   "version": "3.6.10"
  }
 },
 "nbformat": 4,
 "nbformat_minor": 4
}

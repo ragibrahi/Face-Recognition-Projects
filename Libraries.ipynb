{
 "cells": [
  {
   "cell_type": "code",
   "execution_count": 1,
   "metadata": {},
   "outputs": [],
   "source": [
    "import cv2\n",
    "import dlib\n",
    "import face_recognition"
   ]
  },
  {
   "cell_type": "code",
   "execution_count": 3,
   "metadata": {},
   "outputs": [
    {
     "name": "stdout",
     "output_type": "stream",
     "text": [
      "4.2.0\n",
      "19.8.1\n",
      "1.2.3\n"
     ]
    }
   ],
   "source": [
    "print(cv2.__version__)\n",
    "print(dlib.__version__)\n",
    "print(face_recognition.__version__)"
   ]
  },
  {
   "cell_type": "code",
   "execution_count": 2,
   "metadata": {},
   "outputs": [],
   "source": [
    "image1 = cv2.imread('E:/Courses/Face Recognition/group image.jpg')\n",
    "cv2.imshow('Image',image1)\n",
    "cv2.waitKey(0)\n",
    "cv2.destroyAllWindows()"
   ]
  },
  {
   "cell_type": "code",
   "execution_count": 5,
   "metadata": {},
   "outputs": [
    {
     "name": "stdout",
     "output_type": "stream",
     "text": [
      "There are 3 no. of peoples\n",
      "[(50, 136, 94, 93), (70, 88, 113, 45), (32, 175, 84, 124)]\n"
     ]
    }
   ],
   "source": [
    "# detect all the faces in the image\n",
    "number_of_faces = face_recognition.face_locations(image1, model='hog')\n",
    "print(\"There are {} no. of peoples\".format(len(number_of_faces)))\n",
    "print(number_of_faces)"
   ]
  },
  {
   "cell_type": "code",
   "execution_count": 6,
   "metadata": {},
   "outputs": [
    {
     "name": "stdout",
     "output_type": "stream",
     "text": [
      "There are 3 no. of peoples\n",
      "[(43, 135, 90, 87), (38, 183, 86, 135), (69, 84, 109, 45)]\n"
     ]
    }
   ],
   "source": [
    "number_of_faces1 = face_recognition.face_locations(image1, model='cnn')\n",
    "print(\"There are {} no. of peoples\".format(len(number_of_faces1)))\n",
    "print(number_of_faces1)"
   ]
  },
  {
   "cell_type": "code",
   "execution_count": 9,
   "metadata": {},
   "outputs": [
    {
     "name": "stdout",
     "output_type": "stream",
     "text": [
      "Found face 1 at top:50 , right:136 , bottom:94 , left:93\n",
      "Found face 2 at top:70 , right:88 , bottom:113 , left:45\n",
      "Found face 3 at top:32 , right:175 , bottom:84 , left:124\n"
     ]
    }
   ],
   "source": [
    "for index, current_face_location in enumerate(number_of_faces):\n",
    "    top_pos, right_pos, bottom_pos, left_pos = current_face_location\n",
    "    print(\"Found face {} at top:{} , right:{} , bottom:{} , left:{}\".format(index+1, top_pos, right_pos,\n",
    "                                                                        bottom_pos, left_pos))\n",
    "    current_face_image = image1[top_pos:bottom_pos, left_pos:right_pos]\n",
    "    cv2.imshow(\"Face no \"+str(index+1), current_face_image)\n",
    "cv2.waitKey(0)\n",
    "cv2.destroyAllWindows()"
   ]
  }
 ],
 "metadata": {
  "kernelspec": {
   "display_name": "Python 3",
   "language": "python",
   "name": "python3"
  },
  "language_info": {
   "codemirror_mode": {
    "name": "ipython",
    "version": 3
   },
   "file_extension": ".py",
   "mimetype": "text/x-python",
   "name": "python",
   "nbconvert_exporter": "python",
   "pygments_lexer": "ipython3",
   "version": "3.6.5"
  }
 },
 "nbformat": 4,
 "nbformat_minor": 4
}

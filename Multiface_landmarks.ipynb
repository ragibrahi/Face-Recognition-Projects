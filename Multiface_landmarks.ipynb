{
 "cells": [
  {
   "cell_type": "code",
   "execution_count": 1,
   "metadata": {},
   "outputs": [],
   "source": [
    "import face_recognition\n",
    "from PIL import Image, ImageDraw"
   ]
  },
  {
   "cell_type": "code",
   "execution_count": 2,
   "metadata": {},
   "outputs": [
    {
     "name": "stdout",
     "output_type": "stream",
     "text": [
      "[{'chin': [(148, 597), (151, 631), (155, 665), (161, 698), (172, 729), (191, 755), (218, 776), (248, 794), (280, 800), (312, 794), (342, 776), (368, 755), (387, 731), (399, 702), (407, 670), (412, 639), (416, 607)], 'left_eyebrow': [(167, 553), (183, 533), (208, 525), (236, 525), (262, 536)], 'right_eyebrow': [(317, 538), (342, 531), (369, 533), (391, 544), (404, 566)], 'nose_bridge': [(287, 577), (286, 598), (285, 618), (285, 640)], 'nose_tip': [(259, 659), (272, 663), (284, 667), (297, 664), (309, 660)], 'left_eye': [(197, 583), (214, 575), (233, 575), (248, 587), (231, 592), (212, 591)], 'right_eye': [(323, 589), (340, 579), (359, 580), (373, 590), (358, 596), (340, 595)], 'top_lip': [(236, 708), (257, 700), (274, 694), (286, 697), (297, 694), (314, 699), (331, 709), (323, 708), (297, 705), (286, 707), (274, 706), (246, 708)], 'bottom_lip': [(331, 709), (315, 724), (298, 730), (286, 732), (274, 731), (256, 724), (236, 708), (246, 708), (274, 713), (286, 714), (298, 713), (323, 708)]}, {'chin': [(557, 632), (560, 656), (567, 681), (583, 704), (601, 726), (618, 750), (637, 771), (660, 788), (689, 788), (722, 776), (757, 755), (789, 729), (815, 698), (827, 658), (824, 613), (815, 569), (804, 527)], 'left_eyebrow': [(541, 592), (542, 576), (553, 567), (567, 564), (582, 564)], 'right_eyebrow': [(617, 541), (641, 521), (668, 505), (700, 502), (728, 511)], 'nose_bridge': [(611, 586), (613, 606), (614, 626), (615, 646)], 'nose_tip': [(614, 672), (624, 672), (635, 670), (646, 662), (657, 655)], 'left_eye': [(566, 621), (572, 607), (586, 601), (602, 607), (591, 616), (576, 622)], 'right_eye': [(657, 578), (668, 559), (686, 551), (706, 552), (695, 567), (677, 575)], 'top_lip': [(621, 716), (620, 704), (628, 694), (637, 693), (647, 686), (671, 684), (703, 683), (695, 687), (653, 701), (642, 706), (634, 710), (627, 715)], 'bottom_lip': [(703, 683), (683, 706), (665, 721), (653, 727), (644, 730), (631, 728), (621, 716), (627, 715), (637, 709), (645, 706), (656, 701), (695, 687)]}]\n"
     ]
    }
   ],
   "source": [
    "image = face_recognition.load_image_file('E:/Courses/Face Recognition/FF/known/23.jpeg')\n",
    "face_landmarks = face_recognition.face_landmarks(image)\n",
    "print(face_landmarks)\n",
    "number_of_faces = face_recognition.face_locations(image, model='hog')\n",
    "#convert numpy array image into pil image\n",
    "pil_image = Image.fromarray(image)\n",
    "#convert pil_image to draw object\n",
    "d = ImageDraw.Draw(pil_image)\n",
    "for index in enumerate(number_of_faces):\n",
    "    for face_landmark in face_landmarks:\n",
    "        #joint each face_landmark points\n",
    "        d.line(face_landmark['chin'], fill=(255,0,0), width=2)\n",
    "        d.line(face_landmark['left_eyebrow'], fill=(255,0,0), width=2)\n",
    "        d.line(face_landmark['right_eyebrow'], fill=(255,0,0), width=2)\n",
    "        d.line(face_landmark['nose_bridge'], fill=(255,0,0), width=2)\n",
    "        d.line(face_landmark['nose_tip'], fill=(255,0,0), width=2)\n",
    "        d.line(face_landmark['left_eye'], fill=(255,0,0), width=2)\n",
    "        d.line(face_landmark['right_eye'], fill=(255,0,0), width=2)\n",
    "        d.line(face_landmark['top_lip'], fill=(255,0,0), width=2)\n",
    "        d.line(face_landmark['bottom_lip'], fill=(255,0,0), width=2)\n",
    "    \n",
    "pil_image.show()\n",
    "pil_image.save('E:/Courses/Face Recognition/FF/known/face_landmarks1.jpeg')"
   ]
  }
 ],
 "metadata": {
  "kernelspec": {
   "display_name": "Python 3",
   "language": "python",
   "name": "python3"
  },
  "language_info": {
   "codemirror_mode": {
    "name": "ipython",
    "version": 3
   },
   "file_extension": ".py",
   "mimetype": "text/x-python",
   "name": "python",
   "nbconvert_exporter": "python",
   "pygments_lexer": "ipython3",
   "version": "3.6.10"
  }
 },
 "nbformat": 4,
 "nbformat_minor": 4
}
